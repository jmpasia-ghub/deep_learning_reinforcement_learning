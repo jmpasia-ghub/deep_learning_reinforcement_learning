{
 "cells": [
  {
   "cell_type": "markdown",
   "metadata": {
    "tags": []
   },
   "source": [
    "# Project Title: Building a Convolutional Neural Nets (CNN) to Classify Images in the CIFAR-100 Dataset"
   ]
  },
  {
   "cell_type": "markdown",
   "metadata": {},
   "source": [
    "## Section 1: Objective of the Project\n",
    "The objectives of the project are two-fold: \n",
    "* apply convolutional neural network (CNN) to classify a specific set of images \n",
    "* compare the performance of different CNN architectures.   \n",
    "\n",
    "To achieve these objectives, we apply two CNN models one of which is the LeNet-5. The other model is similar to LeNet but it has different parameters (e.g. number of filters) with a dropout feature. \n",
    "Due to limited computational power of my machine, I will run these models with a small epoch size to test determine the performance and the run times. In case the performance is poor, additional parameter settings\n",
    "will be explored to determine if the models can be further enhanced (e.g. increase the number of epochs)."
   ]
  },
  {
   "cell_type": "markdown",
   "metadata": {},
   "source": [
    "\n",
    "## Section 2: Description of Dataset\n",
    "This project uses the CIFAR-100 dataset. This dataset consists of 32x32 color images divided into 100 classes. Since each class has 600 images, it has 60000 images (600x100) in total. \n",
    "The 100 classes are:\n",
    "\n",
    "\n",
    "| Superclass | Class |\n",
    "|------|------|\n",
    "| aquatic mammals | beaver, dolphin, otter, seal, whale |\n",
    "| fish | aquarium fish, flatfish, ray, shark, trout |\n",
    "| flowers | orchids, poppies, roses, sunflowers, tulips |\n",
    "| food containers | bottles, bowls, cans, cups, plates |\n",
    "| fruit and vegetables | apples, mushrooms, oranges, pears, sweet peppers |\n",
    "| household electrical devices | clock, computer keyboard, lamp, telephone, television |\n",
    "| household furniture | bed, chair, couch, table, wardrobe |\n",
    "| insects | bee, beetle, butterfly, caterpillar, cockroach |\n",
    "| large carnivores | bear, leopard, lion, tiger, wolf |\n",
    "| large man-made outdoor things | bridge, castle, house, road, skyscraper |\n",
    "| large natural outdoor scenes | cloud, forest, mountain, plain, sea |\n",
    "| large omnivores and herbivores | camel, cattle, chimpanzee, elephant, kangaroo |\n",
    "| medium-sized mammals | fox, porcupine, possum, raccoon, skunk |\n",
    "| non-insect invertebrates | crab, lobster, snail, spider, worm |\n",
    "| people | baby, boy, girl, man, woman |\n",
    "| reptiles | crocodile, dinosaur, lizard, snake, turtle |\n",
    "| small mammals | hamster, mouse, rabbit, shrew, squirrel |\n",
    "| trees | maple, oak, palm, pine, willow |\n",
    "| vehicles 1 | bicycle, bus, motorcycle, pickup truck, train |\n",
    "| vehicles 2 | lawn-mower, rocket, streetcar, tank, tractor |\n",
    "\n",
    "Of the 60,000 images, 50000 of them are training images and while the remaining 10000 are test images. For more details about the data, please refer to https://www.cs.toronto.edu/~kriz/cifar.html.\n",
    "Moreover, Section 4 also provides additional information about the data.\n"
   ]
  },
  {
   "cell_type": "markdown",
   "metadata": {},
   "source": [
    "## Section 3: Python Packages\n",
    "\n",
    "This project requires the following packages."
   ]
  },
  {
   "cell_type": "code",
   "execution_count": 13,
   "metadata": {
    "tags": []
   },
   "outputs": [],
   "source": [
    "import warnings\n",
    "warnings.simplefilter('ignore')\n",
    "\n",
    "import pandas as pd\n",
    "import numpy as np\n",
    "import matplotlib.pyplot as plt\n",
    "from tensorflow import keras\n",
    "from tensorflow.keras.datasets import cifar100\n",
    "from tensorflow.keras.preprocessing.image import ImageDataGenerator\n",
    "from tensorflow.keras.models import Sequential\n",
    "from tensorflow.keras.layers import Dense, Dropout, Activation, Flatten\n",
    "from tensorflow.keras.layers import Conv2D, MaxPooling2D, AveragePooling2D"
   ]
  },
  {
   "cell_type": "markdown",
   "metadata": {
    "tags": []
   },
   "source": [
    "## Section 4: Data Loading and Preparation"
   ]
  },
  {
   "cell_type": "markdown",
   "metadata": {
    "tags": []
   },
   "source": [
    "### Data loading, shuffling and splitting between train and test sets"
   ]
  },
  {
   "cell_type": "code",
   "execution_count": 5,
   "metadata": {
    "tags": []
   },
   "outputs": [
    {
     "name": "stdout",
     "output_type": "stream",
     "text": [
      "Downloading data from https://www.cs.toronto.edu/~kriz/cifar-100-python.tar.gz\n",
      "169009152/169001437 [==============================] - 19s 0us/step\n"
     ]
    }
   ],
   "source": [
    "\n",
    "(x_train, y_train), (x_test, y_test) = cifar100.load_data()\n"
   ]
  },
  {
   "cell_type": "markdown",
   "metadata": {},
   "source": [
    "### Data size"
   ]
  },
  {
   "cell_type": "code",
   "execution_count": 4,
   "metadata": {
    "tags": []
   },
   "outputs": [
    {
     "name": "stdout",
     "output_type": "stream",
     "text": [
      "Dimension of training data: (50000, 32, 32, 3)\n",
      "Number of train samples: 50000\n",
      "Number of test samples: 10000\n"
     ]
    }
   ],
   "source": [
    "\n",
    "print('Dimension of training data:', x_train.shape)\n",
    "print('Number of train samples:', x_train.shape[0])\n",
    "print('Number of test samples:', x_test.shape[0])\n"
   ]
  },
  {
   "cell_type": "markdown",
   "metadata": {
    "tags": []
   },
   "source": [
    "### Random sample images from test and train data"
   ]
  },
  {
   "cell_type": "markdown",
   "metadata": {},
   "source": [
    "##### One can see below that the y-variable is numeric ranging from 0 to 99 representing the 100 data classes."
   ]
  },
  {
   "cell_type": "code",
   "execution_count": 29,
   "metadata": {
    "tags": []
   },
   "outputs": [
    {
     "data": {
      "text/plain": [
       "array([ 0,  1,  2,  3,  4,  5,  6,  7,  8,  9, 10, 11, 12, 13, 14, 15, 16,\n",
       "       17, 18, 19, 20, 21, 22, 23, 24, 25, 26, 27, 28, 29, 30, 31, 32, 33,\n",
       "       34, 35, 36, 37, 38, 39, 40, 41, 42, 43, 44, 45, 46, 47, 48, 49, 50,\n",
       "       51, 52, 53, 54, 55, 56, 57, 58, 59, 60, 61, 62, 63, 64, 65, 66, 67,\n",
       "       68, 69, 70, 71, 72, 73, 74, 75, 76, 77, 78, 79, 80, 81, 82, 83, 84,\n",
       "       85, 86, 87, 88, 89, 90, 91, 92, 93, 94, 95, 96, 97, 98, 99])"
      ]
     },
     "execution_count": 29,
     "metadata": {},
     "output_type": "execute_result"
    }
   ],
   "source": [
    "np.unique(y_train)"
   ]
  },
  {
   "cell_type": "markdown",
   "metadata": {
    "tags": []
   },
   "source": [
    "##### There are equal number of samples for each class in the training and test datasets (i.e. 500 and 100 respectively)."
   ]
  },
  {
   "cell_type": "code",
   "execution_count": 43,
   "metadata": {
    "tags": []
   },
   "outputs": [
    {
     "data": {
      "image/png": "[encoded data removed]",
      "text/plain": [
       "<Figure size 640x480 with 1 Axes>"
      ]
     },
     "metadata": {},
     "output_type": "display_data"
    }
   ],
   "source": [
    "df = pd.DataFrame(y_train)\n",
    "counts = df.value_counts()\n",
    "counts.plot(kind='bar', color='skyblue')\n",
    "plt.xlabel('Classes')\n",
    "plt.ylabel('Count')\n",
    "plt.title('Value Counts of Classes in Training Set')\n",
    "plt.show()"
   ]
  },
  {
   "cell_type": "code",
   "execution_count": 44,
   "metadata": {
    "tags": []
   },
   "outputs": [
    {
     "data": {
      "image/png": "[encoded data removed]",
      "text/plain": [
       "<Figure size 640x480 with 1 Axes>"
      ]
     },
     "metadata": {},
     "output_type": "display_data"
    }
   ],
   "source": [
    "df = pd.DataFrame(y_test)\n",
    "counts = df.value_counts()\n",
    "counts.plot(kind='bar', color='skyblue')\n",
    "plt.xlabel('Classes')\n",
    "plt.ylabel('Count')\n",
    "plt.title('Value Counts of Classes in Test Set')\n",
    "plt.show()"
   ]
  },
  {
   "cell_type": "markdown",
   "metadata": {},
   "source": [
    "##### Below are two examples of the images from the training set."
   ]
  },
  {
   "cell_type": "code",
   "execution_count": 6,
   "metadata": {
    "tags": []
   },
   "outputs": [
    {
     "data": {
      "image/png": "[encoded data removed]",
      "text/plain": [
       "<Figure size 640x480 with 1 Axes>"
      ]
     },
     "metadata": {},
     "output_type": "display_data"
    }
   ],
   "source": [
    "\n",
    "plt.imshow(x_train[1234]);\n"
   ]
  },
  {
   "cell_type": "code",
   "execution_count": 46,
   "metadata": {
    "tags": []
   },
   "outputs": [
    {
     "data": {
      "image/png": "[encoded data removed]",
      "text/plain": [
       "<Figure size 640x480 with 1 Axes>"
      ]
     },
     "metadata": {},
     "output_type": "display_data"
    }
   ],
   "source": [
    "\n",
    "plt.imshow(x_test[1234]);\n"
   ]
  },
  {
   "cell_type": "code",
   "execution_count": 45,
   "metadata": {
    "tags": []
   },
   "outputs": [
    {
     "data": {
      "text/plain": [
       "array([38])"
      ]
     },
     "execution_count": 45,
     "metadata": {},
     "output_type": "execute_result"
    }
   ],
   "source": [
    "y_test[1234]"
   ]
  },
  {
   "cell_type": "markdown",
   "metadata": {
    "tags": []
   },
   "source": [
    "### Data cleaning and exploration"
   ]
  },
  {
   "cell_type": "markdown",
   "metadata": {},
   "source": [
    "##### Since CIFAR-100 dataset is a well-known and widely used data to studying machine learning, there is no need to clean and further explore the data. However, one must prepare (e.g. normalize) the data before they can be used in modeling using machine learning. The data preparation is presented below. "
   ]
  },
  {
   "cell_type": "markdown",
   "metadata": {},
   "source": [
    "### Data normalization"
   ]
  },
  {
   "cell_type": "code",
   "execution_count": 4,
   "metadata": {
    "tags": []
   },
   "outputs": [],
   "source": [
    "num_classes = 100\n",
    "\n",
    "y_train = keras.utils.to_categorical(y_train, num_classes)\n",
    "y_test = keras.utils.to_categorical(y_test, num_classes)"
   ]
  },
  {
   "cell_type": "markdown",
   "metadata": {
    "tags": []
   },
   "source": [
    "##### Now, instead of classes described by an integer between 0-99 we have a vector with a 1 in the (Pythonic) ith position (see array example below).\n"
   ]
  },
  {
   "cell_type": "code",
   "execution_count": 10,
   "metadata": {
    "tags": []
   },
   "outputs": [
    {
     "data": {
      "text/plain": [
       "array([0., 0., 0., 0., 0., 0., 0., 0., 0., 0., 0., 0., 0., 0., 0., 0., 0.,\n",
       "       0., 0., 0., 0., 0., 0., 0., 0., 0., 0., 0., 0., 0., 0., 0., 0., 0.,\n",
       "       0., 0., 0., 0., 0., 0., 0., 0., 0., 0., 0., 0., 0., 0., 0., 0., 0.,\n",
       "       0., 0., 0., 0., 0., 0., 0., 0., 0., 0., 0., 0., 0., 0., 0., 0., 0.,\n",
       "       0., 0., 0., 0., 0., 0., 0., 1., 0., 0., 0., 0., 0., 0., 0., 0., 0.,\n",
       "       0., 0., 0., 0., 0., 0., 0., 0., 0., 0., 0., 0., 0., 0., 0.],\n",
       "      dtype=float32)"
      ]
     },
     "execution_count": 10,
     "metadata": {},
     "output_type": "execute_result"
    }
   ],
   "source": [
    "y_train[444]"
   ]
  },
  {
   "cell_type": "markdown",
   "metadata": {
    "tags": []
   },
   "source": [
    "##### Next, the data are converted to float and are scaled to stabilize the optimization process and to prevent biases toward larger values. "
   ]
  },
  {
   "cell_type": "code",
   "execution_count": 5,
   "metadata": {
    "tags": []
   },
   "outputs": [],
   "source": [
    "x_train = x_train.astype('float32')\n",
    "x_test = x_test.astype('float32')\n",
    "x_train /= 255\n",
    "x_test /= 255"
   ]
  },
  {
   "cell_type": "markdown",
   "metadata": {},
   "source": [
    "# Section 5: Build CNN Models\n",
    "\n"
   ]
  },
  {
   "cell_type": "markdown",
   "metadata": {
    "tags": []
   },
   "source": [
    "### Basic parameters"
   ]
  },
  {
   "cell_type": "code",
   "execution_count": 6,
   "metadata": {
    "tags": []
   },
   "outputs": [],
   "source": [
    "# number of epochs\n",
    "epoch = 5\n",
    "# learning rate\n",
    "epsilon = 0.0005\n",
    "# batch size\n",
    "batch_size = 128\n"
   ]
  },
  {
   "cell_type": "markdown",
   "metadata": {
    "tags": []
   },
   "source": [
    "##### We set the size of the epoch to a small number in order to generate the results quickly. Later, we will test whether increasing the epochs and batch size will improve the results. "
   ]
  },
  {
   "cell_type": "markdown",
   "metadata": {},
   "source": [
    "### Section 5.1:  Model 1  \n",
    "##### Let us build a simple CNN model with 2 convolution layers with 32 filters and 2 dense layers with dropout functionality. Its structure is summarized as follows:"
   ]
  },
  {
   "cell_type": "markdown",
   "metadata": {},
   "source": [
    "##### Convolution -> Convolution -> Max Pooling -> Dropout -> Flatten -> Dense -> Dropout -> Dense -> \"Softmax\""
   ]
  },
  {
   "cell_type": "code",
   "execution_count": 8,
   "metadata": {
    "tags": []
   },
   "outputs": [
    {
     "name": "stdout",
     "output_type": "stream",
     "text": [
      "WARNING:tensorflow:From /home/jupyterlab/conda/envs/python/lib/python3.7/site-packages/tensorflow/python/ops/init_ops.py:1251: calling VarianceScaling.__init__ (from tensorflow.python.ops.init_ops) with dtype is deprecated and will be removed in a future version.\n",
      "Instructions for updating:\n",
      "Call initializer instance with the dtype argument instead of passing it to the constructor\n",
      "Model: \"sequential\"\n",
      "_________________________________________________________________\n",
      "Layer (type)                 Output Shape              Param #   \n",
      "=================================================================\n",
      "conv2d (Conv2D)              (None, 16, 16, 32)        2432      \n",
      "_________________________________________________________________\n",
      "activation (Activation)      (None, 16, 16, 32)        0         \n",
      "_________________________________________________________________\n",
      "conv2d_1 (Conv2D)            (None, 6, 6, 32)          25632     \n",
      "_________________________________________________________________\n",
      "activation_1 (Activation)    (None, 6, 6, 32)          0         \n",
      "_________________________________________________________________\n",
      "max_pooling2d (MaxPooling2D) (None, 3, 3, 32)          0         \n",
      "_________________________________________________________________\n",
      "dropout (Dropout)            (None, 3, 3, 32)          0         \n",
      "_________________________________________________________________\n",
      "flatten (Flatten)            (None, 288)               0         \n",
      "_________________________________________________________________\n",
      "dense (Dense)                (None, 512)               147968    \n",
      "_________________________________________________________________\n",
      "activation_2 (Activation)    (None, 512)               0         \n",
      "_________________________________________________________________\n",
      "dropout_1 (Dropout)          (None, 512)               0         \n",
      "_________________________________________________________________\n",
      "dense_1 (Dense)              (None, 100)               51300     \n",
      "_________________________________________________________________\n",
      "activation_3 (Activation)    (None, 100)               0         \n",
      "=================================================================\n",
      "Total params: 227,332\n",
      "Trainable params: 227,332\n",
      "Non-trainable params: 0\n",
      "_________________________________________________________________\n"
     ]
    }
   ],
   "source": [
    "model_1 = Sequential()\n",
    "\n",
    "\n",
    "## 5x5 convolution with 2x2 stride and 32 filters\n",
    "model_1.add(Conv2D(filters = 32, kernel_size = (5, 5), strides = (2,2), padding='same',\n",
    "                 input_shape=x_train.shape[1:]))\n",
    "model_1.add(Activation('relu'))\n",
    "\n",
    "## Another 5x5 convolution with 2x2 stride and 32 filters\n",
    "model_1.add(Conv2D(filters = 32,  kernel_size = (5, 5), strides = (2,2)))\n",
    "model_1.add(Activation('relu'))\n",
    "\n",
    "## 2x2 max pooling reduces to 3 x 3 x 32\n",
    "model_1.add(MaxPooling2D(pool_size=(2, 2)))\n",
    "model_1.add(Dropout(0.25))\n",
    "\n",
    "## Flatten turns 3x3x32 into 288x1\n",
    "model_1.add(Flatten())\n",
    "model_1.add(Dense(512))\n",
    "model_1.add(Activation('relu'))\n",
    "model_1.add(Dropout(0.5))\n",
    "model_1.add(Dense(num_classes))\n",
    "model_1.add(Activation('softmax'))\n",
    "\n",
    "model_1.summary()"
   ]
  },
  {
   "cell_type": "markdown",
   "metadata": {},
   "source": [
    "##### This model has 227K+ parameters. Next, we compile and run the model.\n"
   ]
  },
  {
   "cell_type": "code",
   "execution_count": 9,
   "metadata": {
    "tags": []
   },
   "outputs": [
    {
     "name": "stdout",
     "output_type": "stream",
     "text": [
      "Train on 50000 samples, validate on 10000 samples\n"
     ]
    },
    {
     "name": "stderr",
     "output_type": "stream",
     "text": [
      "2025-02-19 15:00:17.407973: I tensorflow/core/platform/cpu_feature_guard.cc:142] Your CPU supports instructions that this TensorFlow binary was not compiled to use: SSE4.1 SSE4.2 AVX AVX2 AVX512F FMA\n",
      "2025-02-19 15:00:17.413304: I tensorflow/core/platform/profile_utils/cpu_utils.cc:94] CPU Frequency: 2394300000 Hz\n",
      "2025-02-19 15:00:17.413824: I tensorflow/compiler/xla/service/service.cc:168] XLA service 0x5599d5adefc0 executing computations on platform Host. Devices:\n",
      "2025-02-19 15:00:17.413866: I tensorflow/compiler/xla/service/service.cc:175]   StreamExecutor device (0): <undefined>, <undefined>\n",
      "2025-02-19 15:00:17.453271: W tensorflow/compiler/jit/mark_for_compilation_pass.cc:1412] (One-time warning): Not using XLA:CPU for cluster because envvar TF_XLA_FLAGS=--tf_xla_cpu_global_jit was not set.  If you want XLA:CPU, either set that envvar, or use experimental_jit_scope to enable XLA:CPU.  To confirm that XLA is active, pass --vmodule=xla_compilation_cache=1 (as a proper command-line flag, not via TF_XLA_FLAGS) or set the envvar XLA_FLAGS=--xla_hlo_profile.\n"
     ]
    },
    {
     "name": "stdout",
     "output_type": "stream",
     "text": [
      "Epoch 1/5\n",
      "50000/50000 [==============================] - 51s 1ms/sample - loss: 4.2821 - acc: 0.0508 - val_loss: 3.8790 - val_acc: 0.1229\n",
      "Epoch 2/5\n",
      "50000/50000 [==============================] - 50s 990us/sample - loss: 3.8273 - acc: 0.1162 - val_loss: 3.6955 - val_acc: 0.1537\n",
      "Epoch 3/5\n",
      "50000/50000 [==============================] - 48s 958us/sample - loss: 3.5996 - acc: 0.1510 - val_loss: 3.3686 - val_acc: 0.2058\n",
      "Epoch 4/5\n",
      "50000/50000 [==============================] - 49s 986us/sample - loss: 3.4477 - acc: 0.1787 - val_loss: 3.2136 - val_acc: 0.2269\n",
      "Epoch 5/5\n",
      "50000/50000 [==============================] - 49s 986us/sample - loss: 3.3362 - acc: 0.1982 - val_loss: 3.1465 - val_acc: 0.2430\n"
     ]
    },
    {
     "data": {
      "text/plain": [
       "<tensorflow.python.keras.callbacks.History at 0x7f5f37912190>"
      ]
     },
     "execution_count": 9,
     "metadata": {},
     "output_type": "execute_result"
    }
   ],
   "source": [
    "# initiate RMSprop optimizer\n",
    "opt = keras.optimizers.RMSprop(lr=epsilon)\n",
    "\n",
    "# Let's train the model using RMSprop\n",
    "model_1.compile(loss='categorical_crossentropy',\n",
    "              optimizer=opt,\n",
    "              metrics=['accuracy'])\n",
    "\n",
    "model_1.fit(x_train, y_train,\n",
    "              batch_size=batch_size,\n",
    "              epochs=epoch,\n",
    "              validation_data=(x_test, y_test),\n",
    "              shuffle=True)"
   ]
  },
  {
   "cell_type": "markdown",
   "metadata": {},
   "source": [
    "##### RESULTS\n",
    "##### We can observe the following:\n",
    "##### * The model is completed rather quickly. It takes around 53s to complete one epoch.\n",
    "##### * Accuracies in both training and testing data are low but they are improving over time.  \n",
    "\n",
    "##### We will later test whether increasing the number of epoch would further lead to better performance (see Section 5.3)."
   ]
  },
  {
   "cell_type": "markdown",
   "metadata": {
    "tags": []
   },
   "source": [
    "### Section 5.2: Model 2 (LeNet-5)\n",
    "\n",
    "##### We apply the LeNet model which has 2 convolution layers and 3 dense layers. It is almost similar to Model 1 but it does not have any dropout features and has one more dense layer. Its structure is summarized as follows: "
   ]
  },
  {
   "cell_type": "markdown",
   "metadata": {},
   "source": [
    "##### Convolution -> Max Pooling -> Convolution -> Max Pooling -> Flatten -> Dense -> Dense -> Dense -> \"Softmax\""
   ]
  },
  {
   "cell_type": "code",
   "execution_count": 10,
   "metadata": {
    "tags": []
   },
   "outputs": [
    {
     "name": "stdout",
     "output_type": "stream",
     "text": [
      "Model: \"sequential_1\"\n",
      "_________________________________________________________________\n",
      "Layer (type)                 Output Shape              Param #   \n",
      "=================================================================\n",
      "conv2d_2 (Conv2D)            (None, 28, 28, 24)        1824      \n",
      "_________________________________________________________________\n",
      "max_pooling2d_1 (MaxPooling2 (None, 14, 14, 24)        0         \n",
      "_________________________________________________________________\n",
      "conv2d_3 (Conv2D)            (None, 10, 10, 32)        19232     \n",
      "_________________________________________________________________\n",
      "max_pooling2d_2 (MaxPooling2 (None, 5, 5, 32)          0         \n",
      "_________________________________________________________________\n",
      "flatten_1 (Flatten)          (None, 800)               0         \n",
      "_________________________________________________________________\n",
      "dense_2 (Dense)              (None, 200)               160200    \n",
      "_________________________________________________________________\n",
      "dense_3 (Dense)              (None, 120)               24120     \n",
      "_________________________________________________________________\n",
      "dense_4 (Dense)              (None, 100)               12100     \n",
      "=================================================================\n",
      "Total params: 217,476\n",
      "Trainable params: 217,476\n",
      "Non-trainable params: 0\n",
      "_________________________________________________________________\n"
     ]
    }
   ],
   "source": [
    "model_2 = Sequential()\n",
    "\n",
    "model_2.add(Conv2D(filters=24, kernel_size=(5, 5), activation='relu', input_shape=x_train.shape[1:]))\n",
    "model_2.add(MaxPooling2D(pool_size=(2, 2)))\n",
    "model_2.add(Conv2D(filters=32, kernel_size=(5, 5), activation='relu'))\n",
    "model_2.add(MaxPooling2D(pool_size=(2, 2)))\n",
    "model_2.add(Flatten())\n",
    "model_2.add(Dense(units=200, activation='relu'))\n",
    "model_2.add(Dense(units=120, activation='relu'))\n",
    "model_2.add(Dense(units=num_classes, activation = 'softmax'))\n",
    "model_2.summary()"
   ]
  },
  {
   "cell_type": "markdown",
   "metadata": {},
   "source": [
    "##### This model has fewer parameters than the first model. "
   ]
  },
  {
   "cell_type": "code",
   "execution_count": 11,
   "metadata": {
    "tags": []
   },
   "outputs": [
    {
     "name": "stdout",
     "output_type": "stream",
     "text": [
      "Train on 50000 samples, validate on 10000 samples\n",
      "Epoch 1/5\n",
      "50000/50000 [==============================] - 107s 2ms/sample - loss: 4.1346 - acc: 0.0759 - val_loss: 3.8660 - val_acc: 0.1061\n",
      "Epoch 2/5\n",
      "50000/50000 [==============================] - 104s 2ms/sample - loss: 3.6402 - acc: 0.1534 - val_loss: 3.4939 - val_acc: 0.1778\n",
      "Epoch 3/5\n",
      "50000/50000 [==============================] - 108s 2ms/sample - loss: 3.3940 - acc: 0.1938 - val_loss: 3.3224 - val_acc: 0.2110\n",
      "Epoch 4/5\n",
      "50000/50000 [==============================] - 107s 2ms/sample - loss: 3.2056 - acc: 0.2289 - val_loss: 3.2486 - val_acc: 0.2221\n",
      "Epoch 5/5\n",
      "50000/50000 [==============================] - 109s 2ms/sample - loss: 3.0573 - acc: 0.2574 - val_loss: 3.1543 - val_acc: 0.2465\n"
     ]
    },
    {
     "data": {
      "text/plain": [
       "<tensorflow.python.keras.callbacks.History at 0x7f5f260baf90>"
      ]
     },
     "execution_count": 11,
     "metadata": {},
     "output_type": "execute_result"
    }
   ],
   "source": [
    "# Let's train the model using RMSprop\n",
    "model_2.compile(loss='categorical_crossentropy',\n",
    "              optimizer=opt,\n",
    "              metrics=['accuracy'])\n",
    "\n",
    "model_2.fit(x_train, y_train,\n",
    "              batch_size=batch_size,\n",
    "              epochs=epoch,\n",
    "              validation_data=(x_test, y_test),\n",
    "              shuffle=True)"
   ]
  },
  {
   "cell_type": "markdown",
   "metadata": {},
   "source": [
    "##### RESULTS\n",
    "##### We can observe the following: Although LeNet architecture has fewer parameters than the first model, it has similar performance in terms of accuracy but with longer runtime. \n",
    "##### We will later test whether increasing the number of epochs would further lead to better performance (see Section 5.3)."
   ]
  },
  {
   "cell_type": "markdown",
   "metadata": {},
   "source": [
    "### Section 5:3: Enhance Model 1 and Model 2\n",
    "\n",
    "##### In this section, we will determine if the performance of Model 1 and Model 2 can be enhanced by increasing the number of epochs to 15."
   ]
  },
  {
   "cell_type": "markdown",
   "metadata": {
    "tags": []
   },
   "source": [
    "##### Model 1"
   ]
  },
  {
   "cell_type": "code",
   "execution_count": 12,
   "metadata": {
    "tags": []
   },
   "outputs": [
    {
     "name": "stdout",
     "output_type": "stream",
     "text": [
      "Train on 50000 samples, validate on 10000 samples\n",
      "Epoch 1/15\n",
      "50000/50000 [==============================] - 49s 988us/sample - loss: 3.2469 - acc: 0.2161 - val_loss: 3.1201 - val_acc: 0.2555\n",
      "Epoch 2/15\n",
      "50000/50000 [==============================] - 51s 1ms/sample - loss: 3.1711 - acc: 0.2295 - val_loss: 3.0305 - val_acc: 0.2644\n",
      "Epoch 3/15\n",
      "50000/50000 [==============================] - 50s 1ms/sample - loss: 3.1137 - acc: 0.2385 - val_loss: 2.9437 - val_acc: 0.2864\n",
      "Epoch 4/15\n",
      "50000/50000 [==============================] - 52s 1ms/sample - loss: 3.0689 - acc: 0.2475 - val_loss: 2.9036 - val_acc: 0.2936\n",
      "Epoch 5/15\n",
      "50000/50000 [==============================] - 52s 1ms/sample - loss: 3.0144 - acc: 0.2607 - val_loss: 2.8737 - val_acc: 0.2980\n",
      "Epoch 6/15\n",
      "50000/50000 [==============================] - 52s 1ms/sample - loss: 2.9727 - acc: 0.2679 - val_loss: 2.8471 - val_acc: 0.3028\n",
      "Epoch 7/15\n",
      "50000/50000 [==============================] - 49s 988us/sample - loss: 2.9409 - acc: 0.2738 - val_loss: 2.8850 - val_acc: 0.2978\n",
      "Epoch 8/15\n",
      "50000/50000 [==============================] - 51s 1ms/sample - loss: 2.9009 - acc: 0.2829 - val_loss: 2.7608 - val_acc: 0.3216\n",
      "Epoch 9/15\n",
      "50000/50000 [==============================] - 50s 1ms/sample - loss: 2.8696 - acc: 0.2896 - val_loss: 2.7427 - val_acc: 0.3295\n",
      "Epoch 10/15\n",
      "50000/50000 [==============================] - 50s 993us/sample - loss: 2.8370 - acc: 0.2940 - val_loss: 2.7131 - val_acc: 0.3346\n",
      "Epoch 11/15\n",
      "50000/50000 [==============================] - 48s 968us/sample - loss: 2.8125 - acc: 0.2974 - val_loss: 2.6902 - val_acc: 0.3440\n",
      "Epoch 12/15\n",
      "50000/50000 [==============================] - 51s 1ms/sample - loss: 2.7878 - acc: 0.3039 - val_loss: 2.6550 - val_acc: 0.3477\n",
      "Epoch 13/15\n",
      "50000/50000 [==============================] - 51s 1ms/sample - loss: 2.7641 - acc: 0.3102 - val_loss: 2.6689 - val_acc: 0.3450\n",
      "Epoch 14/15\n",
      "50000/50000 [==============================] - 51s 1ms/sample - loss: 2.7437 - acc: 0.3131 - val_loss: 2.6496 - val_acc: 0.3507\n",
      "Epoch 15/15\n",
      "50000/50000 [==============================] - 48s 965us/sample - loss: 2.7249 - acc: 0.3156 - val_loss: 2.6225 - val_acc: 0.3529\n"
     ]
    },
    {
     "data": {
      "text/plain": [
       "<tensorflow.python.keras.callbacks.History at 0x7f5f25ea5ed0>"
      ]
     },
     "execution_count": 12,
     "metadata": {},
     "output_type": "execute_result"
    }
   ],
   "source": [
    "\n",
    "epoch = 15\n",
    "model_1.fit(x_train, y_train,\n",
    "              batch_size=batch_size,\n",
    "              epochs=epoch,\n",
    "              validation_data=(x_test, y_test),\n",
    "              shuffle=True)\n"
   ]
  },
  {
   "cell_type": "markdown",
   "metadata": {},
   "source": [
    "##### Model 2"
   ]
  },
  {
   "cell_type": "code",
   "execution_count": 13,
   "metadata": {
    "tags": []
   },
   "outputs": [
    {
     "name": "stdout",
     "output_type": "stream",
     "text": [
      "Train on 50000 samples, validate on 10000 samples\n",
      "Epoch 1/15\n",
      "50000/50000 [==============================] - 112s 2ms/sample - loss: 2.9355 - acc: 0.2784 - val_loss: 3.1750 - val_acc: 0.2341\n",
      "Epoch 2/15\n",
      "50000/50000 [==============================] - 108s 2ms/sample - loss: 2.8309 - acc: 0.2997 - val_loss: 2.9146 - val_acc: 0.2886\n",
      "Epoch 3/15\n",
      "50000/50000 [==============================] - 107s 2ms/sample - loss: 2.7303 - acc: 0.3188 - val_loss: 2.9516 - val_acc: 0.2837\n",
      "Epoch 4/15\n",
      "50000/50000 [==============================] - 111s 2ms/sample - loss: 2.6447 - acc: 0.3370 - val_loss: 2.8173 - val_acc: 0.3050\n",
      "Epoch 5/15\n",
      "50000/50000 [==============================] - 110s 2ms/sample - loss: 2.5682 - acc: 0.3538 - val_loss: 2.7651 - val_acc: 0.3138\n",
      "Epoch 6/15\n",
      "50000/50000 [==============================] - 112s 2ms/sample - loss: 2.4981 - acc: 0.3684 - val_loss: 2.7689 - val_acc: 0.3196\n",
      "Epoch 7/15\n",
      "50000/50000 [==============================] - 110s 2ms/sample - loss: 2.4288 - acc: 0.3833 - val_loss: 2.7847 - val_acc: 0.3227\n",
      "Epoch 8/15\n",
      "50000/50000 [==============================] - 108s 2ms/sample - loss: 2.3668 - acc: 0.3938 - val_loss: 2.7491 - val_acc: 0.3312\n",
      "Epoch 9/15\n",
      "50000/50000 [==============================] - 106s 2ms/sample - loss: 2.3137 - acc: 0.4044 - val_loss: 2.6795 - val_acc: 0.3371\n",
      "Epoch 10/15\n",
      "50000/50000 [==============================] - 107s 2ms/sample - loss: 2.2484 - acc: 0.4199 - val_loss: 2.6273 - val_acc: 0.3466\n",
      "Epoch 11/15\n",
      "50000/50000 [==============================] - 109s 2ms/sample - loss: 2.1957 - acc: 0.4314 - val_loss: 2.6242 - val_acc: 0.3466\n",
      "Epoch 12/15\n",
      "50000/50000 [==============================] - 109s 2ms/sample - loss: 2.1409 - acc: 0.4453 - val_loss: 2.9096 - val_acc: 0.3121\n",
      "Epoch 13/15\n",
      "50000/50000 [==============================] - 108s 2ms/sample - loss: 2.0927 - acc: 0.4535 - val_loss: 2.6914 - val_acc: 0.3491\n",
      "Epoch 14/15\n",
      "50000/50000 [==============================] - 108s 2ms/sample - loss: 2.0411 - acc: 0.4638 - val_loss: 2.6496 - val_acc: 0.3533\n",
      "Epoch 15/15\n",
      "50000/50000 [==============================] - 106s 2ms/sample - loss: 1.9914 - acc: 0.4751 - val_loss: 2.7063 - val_acc: 0.3504\n"
     ]
    },
    {
     "data": {
      "text/plain": [
       "<tensorflow.python.keras.callbacks.History at 0x7f5f381f3b50>"
      ]
     },
     "execution_count": 13,
     "metadata": {},
     "output_type": "execute_result"
    }
   ],
   "source": [
    "\n",
    "model_2.fit(x_train, y_train,\n",
    "              batch_size=batch_size,\n",
    "              epochs=epoch,\n",
    "              validation_data=(x_test, y_test),\n",
    "              shuffle=True)"
   ]
  },
  {
   "cell_type": "markdown",
   "metadata": {},
   "source": [
    "#### RESULTS\n",
    "\n",
    "##### Increasing the number of epochs improved the performance of both models. For example, Model 1's accuracy improved from around 24% to 35% as epochs increased from 5 to 15. "
   ]
  },
  {
   "cell_type": "markdown",
   "metadata": {
    "tags": []
   },
   "source": [
    "# Section 6: Conclusion and Recommendation\n",
    "\n",
    "##### Summary\n",
    "In this project, we explored several CNN models to solve a classification problem using CIFAR-100 dataset. In particular, we started with a CNN model having many parameters (at least 200K) and followed this with LeNet-5 architecture which has slightly fewer parameters. Both models were initially run using 5 epochs in order to generate the results quickly. Next, we increased the epoch size of both models to 15 since the initial runs were completed very quickly and the performances were still improving. \n",
    "\n",
    "##### Winning model  \n",
    "\n",
    "Based on the different models that I tested, I prefer to use the first model since it has similar performance as LeNet but with faster runtime. This may be due to the presence of dropout layer which speeds up the calculation processes. \n",
    "\n",
    "##### Further work\n",
    "\n",
    "For both models, one can further explore the better values for its other parameters such as batch size, strides, and kernel size, or add new features such as additional nodes (for the first model) and dropout layer (for LeNet). Another potential future work is to study the performance of other known CNN architectures such as AlexNet and ResNet. Finally, study shows more elaborate and complex CNN architectures are necessary for CIFAR-100 dataset (see for example the comparison of the performances of different CNN models in https://paperswithcode.com/sota/image-classification-on-cifar-100). Therefore, one can study the different models and apply the important features to either Model 1 or Model 2."
   ]
  }
 ],
 "metadata": {
  "kernelspec": {
   "display_name": "Python",
   "language": "python",
   "name": "conda-env-python-py"
  },
  "language_info": {
   "codemirror_mode": {
    "name": "ipython",
    "version": 3
   },
   "file_extension": ".py",
   "mimetype": "text/x-python",
   "name": "python",
   "nbconvert_exporter": "python",
   "pygments_lexer": "ipython3",
   "version": "3.7.12"
  },
  "prev_pub_hash": "da0f7caf9ceec94ee79d87b755236695caf57b021b059786f765a5fe0f9cdaaf"
 },
 "nbformat": 4,
 "nbformat_minor": 4
}
